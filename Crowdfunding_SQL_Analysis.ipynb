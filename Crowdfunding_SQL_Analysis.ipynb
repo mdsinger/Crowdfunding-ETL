{
 "cells": [
  {
   "cell_type": "code",
   "execution_count": 5,
   "id": "10d0cd30",
   "metadata": {},
   "outputs": [
    {
     "ename": "SyntaxError",
     "evalue": "invalid syntax (1920527761.py, line 4)",
     "output_type": "error",
     "traceback": [
      "\u001b[1;36m  File \u001b[1;32m\"C:\\Users\\MDLEW\\AppData\\Local\\Temp\\ipykernel_69684\\1920527761.py\"\u001b[1;36m, line \u001b[1;32m4\u001b[0m\n\u001b[1;33m    SELECT campaign.cf_id\u001b[0m\n\u001b[1;37m                  ^\u001b[0m\n\u001b[1;31mSyntaxError\u001b[0m\u001b[1;31m:\u001b[0m invalid syntax\n"
     ]
    }
   ],
   "source": [
    "# Challenge Bonus queries.\n",
    "# 1. (2.5 pts)\n",
    "# Retrieve all the number of backer_counts in descending order for each `cf_id` for the \"live\" campaigns. \n",
    "SELECT campaign.cf_id\n",
    "ORDER BY public.campaign.cf_id DESC"
   ]
  },
  {
   "cell_type": "code",
   "execution_count": null,
   "id": "5811c28b",
   "metadata": {},
   "outputs": [],
   "source": [
    "\n",
    "-- 2. (2.5 pts)\n",
    "-- Using the \"backers\" table confirm the results in the first query."
   ]
  },
  {
   "cell_type": "code",
   "execution_count": null,
   "id": "bd254f5e",
   "metadata": {},
   "outputs": [],
   "source": [
    "-- 3. (5 pts)\n",
    "-- Create a table that has the first and last name, and email address of each contact.\n",
    "-- and the amount left to reach the goal for all \"live\" projects in descending order. "
   ]
  },
  {
   "cell_type": "code",
   "execution_count": null,
   "id": "8381e052",
   "metadata": {},
   "outputs": [],
   "source": [
    "-- Check the table\n"
   ]
  },
  {
   "cell_type": "code",
   "execution_count": null,
   "id": "1a7b2f02",
   "metadata": {},
   "outputs": [],
   "source": [
    "-- 4. (5 pts)\n",
    "-- Create a table, \"email_backers_remaining_goal_amount\" that contains the email address of each backer in descending order, \n",
    "-- and has the first and last name of each backer, the cf_id, company name, description, \n",
    "-- end date of the campaign, and the remaining amount of the campaign goal as \"Left of Goal\". "
   ]
  },
  {
   "cell_type": "code",
   "execution_count": null,
   "id": "6aad42d6",
   "metadata": {},
   "outputs": [],
   "source": [
    "-- Check the table"
   ]
  }
 ],
 "metadata": {
  "kernelspec": {
   "display_name": "PythonData",
   "language": "python",
   "name": "pythondata"
  },
  "language_info": {
   "codemirror_mode": {
    "name": "ipython",
    "version": 3
   },
   "file_extension": ".py",
   "mimetype": "text/x-python",
   "name": "python",
   "nbconvert_exporter": "python",
   "pygments_lexer": "ipython3",
   "version": "3.7.15"
  }
 },
 "nbformat": 4,
 "nbformat_minor": 5
}
